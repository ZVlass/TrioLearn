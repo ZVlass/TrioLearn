{
 "cells": [
  {
   "cell_type": "markdown",
   "id": "d53a6c03",
   "metadata": {},
   "source": [
    "### 1. Prepare datasets: \n",
    "\n",
    "courses_combined_cleaned.csv (courses)\n",
    "books_metadata_cleaned.csv (books)\n",
    "videos_metadata_cleaned.csv (videos)\n",
    "\n",
    "Each should have a column text_for_embedding that will be  feedede into LDA."
   ]
  },
  {
   "cell_type": "code",
   "execution_count": 11,
   "id": "f7c441f0",
   "metadata": {},
   "outputs": [
    {
     "name": "stdout",
     "output_type": "stream",
     "text": [
      "[check] Project base: c:\\Users\\jvlas\\source\\repos\\TrioLearn\n",
      "\n",
      "[check] COURSES file path: c:\\Users\\jvlas\\source\\repos\\TrioLearn\\backend\\data\\interim\\courses_metadata_clean.csv\n",
      "[ok] courses loaded, shape (preview): (3, 8)\n",
      "[ok] courses columns: ['course_id', 'title', 'description', 'platform', 'provider', 'level', 'skills', 'text_for_embedding']\n",
      "\n",
      "[check] BOOKS file path: c:\\Users\\jvlas\\source\\repos\\TrioLearn\\backend\\data\\interim\\books_metadata.csv\n",
      "[ok] books loaded, shape (preview): (3, 15)\n",
      "[ok] books columns: ['keyword', 'volume_id', 'title', 'authors', 'description', 'categories', 'publishedDate', 'pageCount', 'language', 'averageRating']\n",
      "\n",
      "[check] VIDEOS file path: c:\\Users\\jvlas\\source\\repos\\TrioLearn\\backend\\data\\interim\\videos_metadata_clean.csv\n",
      "[ok] videos loaded, shape (preview): (3, 17)\n",
      "[ok] videos columns: ['video_id', 'title', 'description', 'channel_id', 'channel_title', 'published_at', 'view_count', 'like_count', 'comment_count', 'tags']\n"
     ]
    }
   ],
   "source": [
    "from pathlib import Path\n",
    "import pandas as pd\n",
    "\n",
    "# Detect base (works in Jupyter & scripts)\n",
    "try:\n",
    "    base = Path(__file__).resolve().parents[2]   # when running as .py\n",
    "except NameError:\n",
    "    base = Path.cwd().parents[1]                 # when running from Jupyter in outputs/reports/\n",
    "\n",
    "print(\"[check] Project base:\", base)\n",
    "\n",
    "# Create individual paths\n",
    "courses_path = base / \"backend\" / \"data\" / \"interim\" / \"courses_metadata_clean.csv\"\n",
    "books_path   = base / \"backend\" / \"data\" / \"interim\" / \"books_metadata.csv\"\n",
    "videos_path  = base / \"backend\" / \"data\" / \"interim\" / \"videos_metadata_clean.csv\"\n",
    "\n",
    "# Put into dictionary for verification loop\n",
    "data_files = {\n",
    "    \"courses\": courses_path,\n",
    "    \"books\": books_path,\n",
    "    \"videos\": videos_path,\n",
    "}\n",
    "\n",
    "# Verify each path \n",
    "for name, path in data_files.items():\n",
    "    print(f\"\\n[check] {name.upper()} file path: {path}\")\n",
    "    if not path.exists():\n",
    "        print(f\"[error] {name} CSV not found!\")\n",
    "        continue\n",
    "\n",
    "    try:\n",
    "        df = pd.read_csv(path, nrows=3)  # only read first few rows for speed\n",
    "        print(f\"[ok] {name} loaded, shape (preview): {df.shape}\")\n",
    "        print(f\"[ok] {name} columns:\", list(df.columns)[:10])\n",
    "    except Exception as e:\n",
    "        print(f\"[error] Failed to read {name}: {e}\")\n"
   ]
  },
  {
   "cell_type": "markdown",
   "id": "84f403b2",
   "metadata": {},
   "source": [
    "### 2. Fit separate LDA models ( run Latent Dirichlet Allocation (LDA) separately per modality). "
   ]
  },
  {
   "cell_type": "code",
   "execution_count": 13,
   "id": "3169b85d",
   "metadata": {},
   "outputs": [],
   "source": [
    "import numpy as np\n",
    "from sklearn.feature_extraction.text import CountVectorizer\n",
    "from sklearn.decomposition import LatentDirichletAllocation\n",
    "\n",
    "def fit_lda(df, text_col, n_topics=6, modality=\"course\"):\n",
    "    # 1) Build a boolean mask of valid (non-empty) docs, keep original indices\n",
    "    txt = df[text_col].astype(str).fillna(\"\").str.strip()\n",
    "    mask = txt.str.len() > 0\n",
    "    texts = txt[mask]\n",
    "\n",
    "    if texts.empty:\n",
    "        raise ValueError(f\"No non-empty documents found in column '{text_col}'.\")\n",
    "\n",
    "    # 2) Vectorize only valid rows (aligned indices preserved)\n",
    "    vectorizer = CountVectorizer(stop_words=\"english\", max_df=0.95, min_df=2)\n",
    "    dtm = vectorizer.fit_transform(texts)\n",
    "\n",
    "    if dtm.shape[1] == 0:\n",
    "        # too aggressive filtering; relax thresholds\n",
    "        vectorizer = CountVectorizer(stop_words=\"english\", max_df=1.0, min_df=1)\n",
    "        dtm = vectorizer.fit_transform(texts)\n",
    "        if dtm.shape[1] == 0:\n",
    "            raise ValueError(\"No terms left after vectorization. Check your text preprocessing.\")\n",
    "\n",
    "    # 3) Fit LDA\n",
    "    lda = LatentDirichletAllocation(n_components=n_topics, random_state=42)\n",
    "    theta = lda.fit_transform(dtm)  # rows align with 'texts' (i.e., df[mask])\n",
    "\n",
    "    # 4) Create a Series of dominant topics with the SAME index as 'texts'\n",
    "    dom = pd.Series(theta.argmax(axis=1), index=texts.index)\n",
    "\n",
    "    # 5) Initialize column with NaN, then assign only for valid rows\n",
    "    colname = f\"{modality}_dominant_topic\"\n",
    "    df[colname] = np.nan\n",
    "    df.loc[mask, colname] = dom\n",
    "\n",
    "    return df, lda, vectorizer\n"
   ]
  },
  {
   "cell_type": "markdown",
   "id": "f184d62d",
   "metadata": {},
   "source": [
    "### 3. Fit LDA for courses with fixed number of topics = 5"
   ]
  },
  {
   "cell_type": "code",
   "execution_count": 14,
   "id": "2d06883f",
   "metadata": {},
   "outputs": [
    {
     "name": "stdout",
     "output_type": "stream",
     "text": [
      "[info] Saved courses topic distribution chart to: c:\\Users\\jvlas\\source\\repos\\TrioLearn\\outputs\\reports\\images\\courses_topic_distribution.png\n"
     ]
    }
   ],
   "source": [
    "\n",
    "import pandas as pd\n",
    "import matplotlib.pyplot as plt\n",
    "\n",
    "# output path\n",
    "\n",
    "img_dir = base / \"outputs\" / \"reports\" / \"images\"\n",
    "\n",
    "# Load courses\n",
    "courses_df = pd.read_csv(courses_path)\n",
    "\n",
    "# If your text column is not \"description\", change it here (e.g., \"text_for_embedding\")\n",
    "TEXT_COL = \"description\"\n",
    "\n",
    "# Fit LDA for courses only (for now)\n",
    "courses_df, lda_courses, vec_courses = fit_lda(\n",
    "    courses_df, TEXT_COL, modality=\"course\"\n",
    ")\n",
    "\n",
    "# Save the plot as PNG\n",
    "plt.figure(figsize=(7,4))\n",
    "topic_counts = courses_df[\"course_dominant_topic\"].value_counts().sort_index()\n",
    "topic_counts.plot(kind=\"bar\")\n",
    "plt.title(\"Distribution of Dominant Topics (Courses)\")\n",
    "plt.xlabel(\"Topic\")\n",
    "plt.ylabel(\"Number of Items\")\n",
    "plt.tight_layout()\n",
    "\n",
    "out_path = img_dir / \"courses_topic_distribution.png\"\n",
    "plt.savefig(out_path, dpi=300)\n",
    "plt.close()\n",
    "\n",
    "print(f\"[info] Saved courses topic distribution chart to: {out_path}\")\n"
   ]
  },
  {
   "cell_type": "markdown",
   "id": "59b3d801",
   "metadata": {},
   "source": [
    "### 3.2 Fit LDA for videos with number of topics = 5"
   ]
  },
  {
   "cell_type": "code",
   "execution_count": 15,
   "id": "7d58215e",
   "metadata": {},
   "outputs": [
    {
     "ename": "KeyError",
     "evalue": "'video_dominant_topic'",
     "output_type": "error",
     "traceback": [
      "\u001b[1;31m---------------------------------------------------------------------------\u001b[0m",
      "\u001b[1;31mKeyError\u001b[0m                                  Traceback (most recent call last)",
      "File \u001b[1;32mc:\\Users\\jvlas\\source\\repos\\TrioLearn\\.venv\\lib\\site-packages\\pandas\\core\\indexes\\base.py:3812\u001b[0m, in \u001b[0;36mIndex.get_loc\u001b[1;34m(self, key)\u001b[0m\n\u001b[0;32m   3811\u001b[0m \u001b[38;5;28;01mtry\u001b[39;00m:\n\u001b[1;32m-> 3812\u001b[0m     \u001b[38;5;28;01mreturn\u001b[39;00m \u001b[38;5;28;43mself\u001b[39;49m\u001b[38;5;241;43m.\u001b[39;49m\u001b[43m_engine\u001b[49m\u001b[38;5;241;43m.\u001b[39;49m\u001b[43mget_loc\u001b[49m\u001b[43m(\u001b[49m\u001b[43mcasted_key\u001b[49m\u001b[43m)\u001b[49m\n\u001b[0;32m   3813\u001b[0m \u001b[38;5;28;01mexcept\u001b[39;00m \u001b[38;5;167;01mKeyError\u001b[39;00m \u001b[38;5;28;01mas\u001b[39;00m err:\n",
      "File \u001b[1;32mpandas/_libs/index.pyx:167\u001b[0m, in \u001b[0;36mpandas._libs.index.IndexEngine.get_loc\u001b[1;34m()\u001b[0m\n",
      "File \u001b[1;32mpandas/_libs/index.pyx:196\u001b[0m, in \u001b[0;36mpandas._libs.index.IndexEngine.get_loc\u001b[1;34m()\u001b[0m\n",
      "File \u001b[1;32mpandas/_libs/hashtable_class_helper.pxi:7088\u001b[0m, in \u001b[0;36mpandas._libs.hashtable.PyObjectHashTable.get_item\u001b[1;34m()\u001b[0m\n",
      "File \u001b[1;32mpandas/_libs/hashtable_class_helper.pxi:7096\u001b[0m, in \u001b[0;36mpandas._libs.hashtable.PyObjectHashTable.get_item\u001b[1;34m()\u001b[0m\n",
      "\u001b[1;31mKeyError\u001b[0m: 'video_dominant_topic'",
      "\nThe above exception was the direct cause of the following exception:\n",
      "\u001b[1;31mKeyError\u001b[0m                                  Traceback (most recent call last)",
      "Cell \u001b[1;32mIn[15], line 18\u001b[0m\n\u001b[0;32m     16\u001b[0m \u001b[38;5;66;03m# Save the plot as PNG\u001b[39;00m\n\u001b[0;32m     17\u001b[0m plt\u001b[38;5;241m.\u001b[39mfigure(figsize\u001b[38;5;241m=\u001b[39m(\u001b[38;5;241m7\u001b[39m,\u001b[38;5;241m4\u001b[39m))\n\u001b[1;32m---> 18\u001b[0m topic_videos \u001b[38;5;241m=\u001b[39m \u001b[43mvideos_df\u001b[49m\u001b[43m[\u001b[49m\u001b[38;5;124;43m\"\u001b[39;49m\u001b[38;5;124;43mvideo_dominant_topic\u001b[39;49m\u001b[38;5;124;43m\"\u001b[39;49m\u001b[43m]\u001b[49m\u001b[38;5;241m.\u001b[39mvalue_counts()\u001b[38;5;241m.\u001b[39msort_index()\n\u001b[0;32m     19\u001b[0m topic_counts\u001b[38;5;241m.\u001b[39mplot(kind\u001b[38;5;241m=\u001b[39m\u001b[38;5;124m\"\u001b[39m\u001b[38;5;124mbar\u001b[39m\u001b[38;5;124m\"\u001b[39m)\n\u001b[0;32m     20\u001b[0m plt\u001b[38;5;241m.\u001b[39mtitle(\u001b[38;5;124m\"\u001b[39m\u001b[38;5;124mDistribution of Dominant Topics (Courses)\u001b[39m\u001b[38;5;124m\"\u001b[39m)\n",
      "File \u001b[1;32mc:\\Users\\jvlas\\source\\repos\\TrioLearn\\.venv\\lib\\site-packages\\pandas\\core\\frame.py:4107\u001b[0m, in \u001b[0;36mDataFrame.__getitem__\u001b[1;34m(self, key)\u001b[0m\n\u001b[0;32m   4105\u001b[0m \u001b[38;5;28;01mif\u001b[39;00m \u001b[38;5;28mself\u001b[39m\u001b[38;5;241m.\u001b[39mcolumns\u001b[38;5;241m.\u001b[39mnlevels \u001b[38;5;241m>\u001b[39m \u001b[38;5;241m1\u001b[39m:\n\u001b[0;32m   4106\u001b[0m     \u001b[38;5;28;01mreturn\u001b[39;00m \u001b[38;5;28mself\u001b[39m\u001b[38;5;241m.\u001b[39m_getitem_multilevel(key)\n\u001b[1;32m-> 4107\u001b[0m indexer \u001b[38;5;241m=\u001b[39m \u001b[38;5;28;43mself\u001b[39;49m\u001b[38;5;241;43m.\u001b[39;49m\u001b[43mcolumns\u001b[49m\u001b[38;5;241;43m.\u001b[39;49m\u001b[43mget_loc\u001b[49m\u001b[43m(\u001b[49m\u001b[43mkey\u001b[49m\u001b[43m)\u001b[49m\n\u001b[0;32m   4108\u001b[0m \u001b[38;5;28;01mif\u001b[39;00m is_integer(indexer):\n\u001b[0;32m   4109\u001b[0m     indexer \u001b[38;5;241m=\u001b[39m [indexer]\n",
      "File \u001b[1;32mc:\\Users\\jvlas\\source\\repos\\TrioLearn\\.venv\\lib\\site-packages\\pandas\\core\\indexes\\base.py:3819\u001b[0m, in \u001b[0;36mIndex.get_loc\u001b[1;34m(self, key)\u001b[0m\n\u001b[0;32m   3814\u001b[0m     \u001b[38;5;28;01mif\u001b[39;00m \u001b[38;5;28misinstance\u001b[39m(casted_key, \u001b[38;5;28mslice\u001b[39m) \u001b[38;5;129;01mor\u001b[39;00m (\n\u001b[0;32m   3815\u001b[0m         \u001b[38;5;28misinstance\u001b[39m(casted_key, abc\u001b[38;5;241m.\u001b[39mIterable)\n\u001b[0;32m   3816\u001b[0m         \u001b[38;5;129;01mand\u001b[39;00m \u001b[38;5;28many\u001b[39m(\u001b[38;5;28misinstance\u001b[39m(x, \u001b[38;5;28mslice\u001b[39m) \u001b[38;5;28;01mfor\u001b[39;00m x \u001b[38;5;129;01min\u001b[39;00m casted_key)\n\u001b[0;32m   3817\u001b[0m     ):\n\u001b[0;32m   3818\u001b[0m         \u001b[38;5;28;01mraise\u001b[39;00m InvalidIndexError(key)\n\u001b[1;32m-> 3819\u001b[0m     \u001b[38;5;28;01mraise\u001b[39;00m \u001b[38;5;167;01mKeyError\u001b[39;00m(key) \u001b[38;5;28;01mfrom\u001b[39;00m\u001b[38;5;250m \u001b[39m\u001b[38;5;21;01merr\u001b[39;00m\n\u001b[0;32m   3820\u001b[0m \u001b[38;5;28;01mexcept\u001b[39;00m \u001b[38;5;167;01mTypeError\u001b[39;00m:\n\u001b[0;32m   3821\u001b[0m     \u001b[38;5;66;03m# If we have a listlike key, _check_indexing_error will raise\u001b[39;00m\n\u001b[0;32m   3822\u001b[0m     \u001b[38;5;66;03m#  InvalidIndexError. Otherwise we fall through and re-raise\u001b[39;00m\n\u001b[0;32m   3823\u001b[0m     \u001b[38;5;66;03m#  the TypeError.\u001b[39;00m\n\u001b[0;32m   3824\u001b[0m     \u001b[38;5;28mself\u001b[39m\u001b[38;5;241m.\u001b[39m_check_indexing_error(key)\n",
      "\u001b[1;31mKeyError\u001b[0m: 'video_dominant_topic'"
     ]
    },
    {
     "data": {
      "text/plain": [
       "<Figure size 700x400 with 0 Axes>"
      ]
     },
     "metadata": {},
     "output_type": "display_data"
    }
   ],
   "source": [
    "# output path\n",
    "\n",
    "img_dir = base / \"outputs\" / \"reports\" / \"images\"\n",
    "\n",
    "# Load courses\n",
    "videos_df = pd.read_csv(videos_path)\n",
    "\n",
    "# If your text column is not \"description\", change it here (e.g., \"text_for_embedding\")\n",
    "TEXT_COL = \"description\"\n",
    "\n",
    "# Fit LDA for courses only (for now)\n",
    "videos_df, lda_courses, vec_courses = fit_lda(\n",
    "    videos_df, TEXT_COL, modality=\"course\"\n",
    ")\n",
    "\n",
    "# Save the plot as PNG\n",
    "plt.figure(figsize=(7,4))\n",
    "topic_videos = videos_df[\"video_dominant_topic\"].value_counts().sort_index()\n",
    "topic_counts.plot(kind=\"bar\")\n",
    "plt.title(\"Distribution of Dominant Topics (Courses)\")\n",
    "plt.xlabel(\"Topic\")\n",
    "plt.ylabel(\"Number of Items\")\n",
    "plt.tight_layout()\n",
    "\n",
    "out_path = img_dir / \"video_topic_distribution.png\"\n",
    "plt.savefig(out_path, dpi=300)\n",
    "plt.close()\n",
    "\n",
    "print(f\"[info] Saved courses topic distribution chart to: {out_path}\")"
   ]
  },
  {
   "cell_type": "code",
   "execution_count": null,
   "id": "4f3f52d0",
   "metadata": {},
   "outputs": [],
   "source": [
    "\n",
    "\n",
    "# (Optional) Later, once you have books/videos CSVs, just replicate:\n",
    "\n",
    "books_df  = pd.read_csv(r\"C:\\path\\to\\books.csv\")\n",
    "videos_df = pd.read_csv(r\"C:\\path\\to\\videos.csv\")\n",
    "books_df, lda_books, vec_books    = fit_lda(books_df, TEXT_COL, modality=\"book\")\n",
    "videos_df, lda_videos, vec_videos = fit_lda(videos_df, TEXT_COL, modality=\"video\")"
   ]
  }
 ],
 "metadata": {
  "kernelspec": {
   "display_name": ".venv",
   "language": "python",
   "name": "python3"
  },
  "language_info": {
   "codemirror_mode": {
    "name": "ipython",
    "version": 3
   },
   "file_extension": ".py",
   "mimetype": "text/x-python",
   "name": "python",
   "nbconvert_exporter": "python",
   "pygments_lexer": "ipython3",
   "version": "3.10.0"
  }
 },
 "nbformat": 4,
 "nbformat_minor": 5
}
