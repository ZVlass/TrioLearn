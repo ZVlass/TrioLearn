{
 "cells": [
  {
   "cell_type": "code",
   "execution_count": null,
   "id": "cae5bf51",
   "metadata": {},
   "outputs": [],
   "source": [
    "from sentence_transformers import SentenceTransformer\n",
    "import pandas as pd\n",
    "import numpy as np\n",
    "import os"
   ]
  },
  {
   "cell_type": "code",
   "execution_count": null,
   "id": "2d45c89b",
   "metadata": {},
   "outputs": [],
   "source": [
    "def clean_text(text):\n",
    "    return text.replace('\\n', ' ').replace('\\r', '').strip().lower()\n"
   ]
  },
  {
   "cell_type": "code",
   "execution_count": null,
   "id": "b89d43a4",
   "metadata": {},
   "outputs": [],
   "source": [
    "def embed_youtube_df(df, model_name=\"all-MiniLM-L6-v2\"):\n",
    "    model = SentenceTransformer(model_name)\n",
    "\n",
    "    df['text'] = (df['title'].fillna('') + \" \" + df['description'].fillna('')).apply(clean_text)\n",
    "    embeddings = model.encode(df['text'].tolist(), normalize_embeddings=True)\n",
    "    \n",
    "    df['embedding'] = list(embeddings)\n",
    "    return df"
   ]
  },
  {
   "cell_type": "code",
   "execution_count": null,
   "id": "cfdda123",
   "metadata": {},
   "outputs": [],
   "source": [
    "df = pd.read_csv(\"../data/interim/ml_videos.csv\")\n",
    "df_emb = embed_youtube_df(df)"
   ]
  },
  {
   "cell_type": "code",
   "execution_count": null,
   "id": "61e52ae6",
   "metadata": {},
   "outputs": [],
   "source": [
    "\n",
    "embeddings = np.stack(df['embedding'].values)  # shape: (N, D)\n",
    "\n",
    "# Save embeddings\n",
    "np.save(\"data/processed_youtube/video_embeddings.npy\", embeddings)\n",
    "\n",
    "# Optionally save metadata separately\n",
    "df.drop(columns=['embedding']).to_csv(\"data/processed_youtube/video_metadata.csv\", index=False)"
   ]
  }
 ],
 "metadata": {
  "language_info": {
   "name": "python"
  }
 },
 "nbformat": 4,
 "nbformat_minor": 5
}
