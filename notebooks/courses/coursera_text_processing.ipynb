{
 "cells": [
  {
   "cell_type": "code",
   "execution_count": 2,
   "id": "5bff9864",
   "metadata": {},
   "outputs": [],
   "source": [
    "import pandas as pd\n",
    "import os\n",
    "import re"
   ]
  },
  {
   "cell_type": "code",
   "execution_count": 3,
   "id": "8b9056c2",
   "metadata": {},
   "outputs": [],
   "source": [
    "# Load the Coursera-only dataset\n",
    "\n",
    "raw_dir = \"../../data/raw\"\n",
    "file = \"coursera_course_dataset_v3.csv\"\n",
    "\n",
    "file_path = os.path.join(raw_dir, file)\n",
    "df= pd.read_csv(file_path)\n"
   ]
  },
  {
   "cell_type": "code",
   "execution_count": 4,
   "id": "140b4bca",
   "metadata": {},
   "outputs": [],
   "source": [
    "def clean_text(text):\n",
    "    \"\"\"\n",
    "    Basic text cleaning: lowercase, remove HTML-like tags, URLs, non-alphanumeric chars.\n",
    "    \"\"\"\n",
    "    if not isinstance(text, str):\n",
    "        return \"\"\n",
    "    text = text.lower()\n",
    "    text = re.sub(r\"<[^>]+>\", \" \", text)         # Remove HTML tags\n",
    "    text = re.sub(r\"http\\S+\", \" \", text)         # Remove URLs\n",
    "    text = re.sub(r\"[^a-z0-9\\s]\", \" \", text)     # Remove punctuation/non-alphanum\n",
    "    text = re.sub(r\"\\s+\", \" \", text).strip()     # Normalize whitespace\n",
    "    return text"
   ]
  },
  {
   "cell_type": "code",
   "execution_count": 5,
   "id": "68e4b298",
   "metadata": {},
   "outputs": [],
   "source": [
    "# Fill missing values to avoid string concatenation issues\n",
    "df.fillna(\"\", inplace=True)"
   ]
  },
  {
   "cell_type": "code",
   "execution_count": 6,
   "id": "f8270ba8",
   "metadata": {},
   "outputs": [],
   "source": [
    "# Normalize metadata fields\n",
    "df[\"title\"] = df[\"Title\"]\n",
    "df[\"description\"] = df[\"course_description\"]  \n"
   ]
  },
  {
   "cell_type": "code",
   "execution_count": 7,
   "id": "876ab4d8",
   "metadata": {},
   "outputs": [],
   "source": [
    "# Drop columns not needed for metadata\n",
    "columns_to_drop = [\n",
    "    \"course_url\", \"Ratings\", \"Review Count\", \"course_students_enrolled\"\n",
    "]\n",
    "df.drop(columns=[col for col in columns_to_drop if col in df.columns], inplace=True)"
   ]
  },
  {
   "cell_type": "code",
   "execution_count": 8,
   "id": "d215ed26",
   "metadata": {},
   "outputs": [],
   "source": [
    "# Combine and clean fields\n",
    "df[\"text_for_embedding\"] = (\n",
    "    df[\"title\"] + \" \" +\n",
    "    df[\"Organization\"] + \" \" +\n",
    "    df[\"course_description\"] + \" \" +\n",
    "    df[\"Skills\"] + \" \" +\n",
    "    df[\"Difficulty\"] + \" \" +\n",
    "    df[\"Type\"] + \" \" +\n",
    "    df[\"Duration\"]\n",
    ").apply(clean_text)"
   ]
  },
  {
   "cell_type": "code",
   "execution_count": 9,
   "id": "d6fdc306",
   "metadata": {},
   "outputs": [
    {
     "name": "stdout",
     "output_type": "stream",
     "text": [
      "Cleaned metadata saved to: data/interim/courses_metadata.csv\n"
     ]
    }
   ],
   "source": [
    "# Save processed metadata\n",
    "output_path = \"data/interim/courses_metadata.csv\"\n",
    "os.makedirs(os.path.dirname(output_path), exist_ok=True)\n",
    "df.to_csv(output_path, index=False)\n",
    "\n",
    "print(f\"Cleaned metadata saved to: {output_path}\")"
   ]
  },
  {
   "cell_type": "code",
   "execution_count": null,
   "id": "df696c36",
   "metadata": {},
   "outputs": [],
   "source": []
  }
 ],
 "metadata": {
  "kernelspec": {
   "display_name": ".venv",
   "language": "python",
   "name": "python3"
  },
  "language_info": {
   "codemirror_mode": {
    "name": "ipython",
    "version": 3
   },
   "file_extension": ".py",
   "mimetype": "text/x-python",
   "name": "python",
   "nbconvert_exporter": "python",
   "pygments_lexer": "ipython3",
   "version": "3.10.0"
  }
 },
 "nbformat": 4,
 "nbformat_minor": 5
}
