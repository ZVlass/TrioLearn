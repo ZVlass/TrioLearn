{
 "cells": [
  {
   "cell_type": "code",
   "execution_count": 1,
   "id": "9c2f0baf",
   "metadata": {},
   "outputs": [],
   "source": [
    "import pandas as pd"
   ]
  },
  {
   "cell_type": "code",
   "execution_count": 2,
   "id": "767b9120",
   "metadata": {},
   "outputs": [],
   "source": [
    "# Recompute average session duration per user\n",
    "path=\"../data/raw/OULAD\"\n",
    "vle_df= pd.read_csv(f\"{path}/vle.csv\")\n",
    "student_vle_df = pd.read_csv(f\"{path}/studentVle.csv\")\n",
    "student_info_df = pd.read_csv(f'{path}/studentInfo.csv')"
   ]
  },
  {
   "cell_type": "code",
   "execution_count": 3,
   "id": "a3f53446",
   "metadata": {},
   "outputs": [],
   "source": [
    "# Define refined media mapping\n",
    "def map_media_bucket(activity_type):\n",
    "    reading_types = {'url', 'ouwiki'}\n",
    "    video_types   = {'ouelluminate', 'oucollaborate'}\n",
    "    if activity_type in video_types:\n",
    "        return 'video'\n",
    "    elif activity_type in reading_types:\n",
    "        return 'reading'\n",
    "    else:\n",
    "        return 'course'"
   ]
  },
  {
   "cell_type": "code",
   "execution_count": 4,
   "id": "66bf3c44",
   "metadata": {},
   "outputs": [],
   "source": [
    "# Merge click logs with activity metadata and apply mapping\n",
    "df = student_vle_df.merge(\n",
    "    vle_df[['id_site', 'activity_type']],\n",
    "    on='id_site', how='left'\n",
    ")\n",
    "df['media_type'] = df['activity_type'].apply(map_media_bucket)"
   ]
  },
  {
   "cell_type": "code",
   "execution_count": 5,
   "id": "871bc4dc",
   "metadata": {},
   "outputs": [],
   "source": [
    "# Aggregate raw click counts per user and media_type\n",
    "counts_df = (\n",
    "    df\n",
    "    .groupby(['id_student', 'media_type'])['sum_click']\n",
    "    .sum()\n",
    "    .unstack(fill_value=0)\n",
    "    .reset_index()\n",
    ")"
   ]
  },
  {
   "cell_type": "code",
   "execution_count": 6,
   "id": "7cb28738",
   "metadata": {},
   "outputs": [],
   "source": [
    "#  Rename count columns (add '_count' suffix, keeping 'id_student')\n",
    "media_cols = [col for col in counts_df.columns if col != 'id_student']\n",
    "counts_df = counts_df.rename(columns={col: f\"{col}_count\" for col in media_cols})"
   ]
  },
  {
   "cell_type": "code",
   "execution_count": 7,
   "id": "a2b5dbab",
   "metadata": {},
   "outputs": [],
   "source": [
    "#  Compute normalized proportions per user\n",
    "prop_cols = [col for col in counts_df.columns if col.endswith('_count')]\n",
    "props_df = counts_df[['id_student'] + prop_cols].copy()\n",
    "props_df[prop_cols] = props_df[prop_cols].div(props_df[prop_cols].sum(axis=1), axis=0)\n",
    "props_df = props_df.rename(columns={col: col.replace('_count', '_prop') for col in prop_cols})"
   ]
  },
  {
   "cell_type": "code",
   "execution_count": 8,
   "id": "50dc93ad",
   "metadata": {},
   "outputs": [],
   "source": [
    "# Compute average session duration (minutes) per user\n",
    "df['date'] = pd.to_datetime(df['date'])\n",
    "session_df = (\n",
    "    df.groupby(['id_student', 'date'])['sum_click']\n",
    "    .sum()\n",
    "    .reset_index(name='clicks_per_session')\n",
    ")\n",
    "# assume 0.5 minutes per click\n",
    "session_df['duration_min'] = session_df['clicks_per_session'] * 0.5\n",
    "user_sessions = (\n",
    "    session_df.groupby('id_student')['duration_min']\n",
    "    .mean()\n",
    "    .reset_index(name='avg_session_duration_min')\n",
    ")"
   ]
  },
  {
   "cell_type": "code",
   "execution_count": 9,
   "id": "ed2b38b7",
   "metadata": {},
   "outputs": [],
   "source": [
    "# Merge counts, proportions, demographics, and session durations\n",
    "profiles = counts_df.merge(props_df, on='id_student') \\\n",
    "    .merge(student_info_df[['id_student', 'gender', 'region', 'highest_education', 'imd_band', 'age_band']],\n",
    "           on='id_student', how='left') \\\n",
    "    .merge(user_sessions, on='id_student', how='left')"
   ]
  },
  {
   "cell_type": "code",
   "execution_count": 10,
   "id": "951eeb20",
   "metadata": {},
   "outputs": [],
   "source": [
    "# Save the augmented profiles\n",
    "out_path = \"../data/processed/oulad_media_profiles_refined.csv\"\n",
    "profiles.to_csv(out_path, index=False)"
   ]
  },
  {
   "cell_type": "code",
   "execution_count": null,
   "id": "801726ff",
   "metadata": {},
   "outputs": [],
   "source": []
  },
  {
   "cell_type": "code",
   "execution_count": 11,
   "id": "bf3bf36e",
   "metadata": {},
   "outputs": [
    {
     "name": "stdout",
     "output_type": "stream",
     "text": [
      "   id_student  course_count  reading_count  video_count  course_prop  \\\n",
      "0        6516          2648            143            0     0.948764   \n",
      "1        8462           602             41           13     0.917683   \n",
      "2        8462           602             41           13     0.917683   \n",
      "3       11391           929              5            0     0.994647   \n",
      "4       23629           161              0            0     1.000000   \n",
      "\n",
      "   reading_prop  video_prop gender               region   highest_education  \\\n",
      "0      0.051236    0.000000      M             Scotland    HE Qualification   \n",
      "1      0.062500    0.019817      M        London Region    HE Qualification   \n",
      "2      0.062500    0.019817      M        London Region    HE Qualification   \n",
      "3      0.005353    0.000000      M  East Anglian Region    HE Qualification   \n",
      "4      0.000000    0.000000      F  East Anglian Region  Lower Than A Level   \n",
      "\n",
      "  imd_band age_band  avg_session_duration_min  \n",
      "0   80-90%     55<=                  8.776730  \n",
      "1   30-40%     55<=                  5.857143  \n",
      "2   30-40%     55<=                  5.857143  \n",
      "3  90-100%     55<=                 11.675000  \n",
      "4   20-30%     0-35                  5.031250  \n"
     ]
    }
   ],
   "source": [
    "print(profiles.head())"
   ]
  },
  {
   "cell_type": "code",
   "execution_count": null,
   "id": "7af726a4",
   "metadata": {},
   "outputs": [],
   "source": []
  }
 ],
 "metadata": {
  "kernelspec": {
   "display_name": ".venv",
   "language": "python",
   "name": "python3"
  },
  "language_info": {
   "codemirror_mode": {
    "name": "ipython",
    "version": 3
   },
   "file_extension": ".py",
   "mimetype": "text/x-python",
   "name": "python",
   "nbconvert_exporter": "python",
   "pygments_lexer": "ipython3",
   "version": "3.10.0"
  }
 },
 "nbformat": 4,
 "nbformat_minor": 5
}
