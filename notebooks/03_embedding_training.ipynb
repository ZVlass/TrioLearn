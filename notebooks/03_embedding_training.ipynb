{
 "cells": [
  {
   "cell_type": "markdown",
   "id": "b7efa3c7",
   "metadata": {},
   "source": [
    "Use a Sentence-BERT (or similar) to encode each course into an embedding. Save these embeddings for fast lookup. After this runs, we have:\n",
    "DataFrame with course data, a NumPy array of shape (num_courses, embedding_dim) and saved file data/processed/course_embeddings.npy."
   ]
  },
  {
   "cell_type": "code",
   "execution_count": 2,
   "id": "37c2ea63",
   "metadata": {},
   "outputs": [
    {
     "name": "stdout",
     "output_type": "stream",
     "text": [
      "Loaded combined courses catalog with shape: (1343, 9)\n"
     ]
    }
   ],
   "source": [
    "import os\n",
    "import pandas as pd\n",
    "import numpy as np\n",
    "from sentence_transformers import SentenceTransformer\n",
    "\n",
    "#  Load the cleaned combined catalog\n",
    "process_dir = \"../data/processed\"\n",
    "catalog_path = os.path.join(process_dir, \"courses_combined_cleaned.csv\") \n",
    "df = pd.read_csv(catalog_path)\n",
    "\n",
    "# Check that text_for_embedding exists\n",
    "if 'text_for_embedding' not in df.columns:\n",
    "    raise KeyError(\"Column 'text_for_embedding' not found in DataFrame.\")\n",
    "\n",
    "print(\"Loaded combined courses catalog with shape:\", df.shape)"
   ]
  },
  {
   "cell_type": "code",
   "execution_count": 3,
   "id": "cb742965",
   "metadata": {},
   "outputs": [
    {
     "name": "stderr",
     "output_type": "stream",
     "text": [
      "c:\\Users\\jvlas\\source\\repos\\TrioLearn\\.venv\\lib\\site-packages\\huggingface_hub\\file_download.py:143: UserWarning: `huggingface_hub` cache-system uses symlinks by default to efficiently store duplicated files but your machine does not support them in C:\\Users\\jvlas\\.cache\\huggingface\\hub\\models--sentence-transformers--all-MiniLM-L6-v2. Caching files will still work but in a degraded version that might require more space on your disk. This warning can be disabled by setting the `HF_HUB_DISABLE_SYMLINKS_WARNING` environment variable. For more details, see https://huggingface.co/docs/huggingface_hub/how-to-cache#limitations.\n",
      "To support symlinks on Windows, you either need to activate Developer Mode or to run Python as an administrator. In order to activate developer mode, see this article: https://docs.microsoft.com/en-us/windows/apps/get-started/enable-your-device-for-development\n",
      "  warnings.warn(message)\n",
      "Xet Storage is enabled for this repo, but the 'hf_xet' package is not installed. Falling back to regular HTTP download. For better performance, install the package with: `pip install huggingface_hub[hf_xet]` or `pip install hf_xet`\n"
     ]
    },
    {
     "name": "stdout",
     "output_type": "stream",
     "text": [
      "Encoding 1343 courses into embeddings...\n"
     ]
    },
    {
     "name": "stderr",
     "output_type": "stream",
     "text": [
      "Batches: 100%|██████████| 42/42 [01:44<00:00,  2.49s/it]\n"
     ]
    }
   ],
   "source": [
    "# Choose a Sentence-BERT model\n",
    "model_name = 'all-MiniLM-L6-v2'  \n",
    "model = SentenceTransformer(model_name)\n",
    "\n",
    "# Encode in batches\n",
    "texts = df['text_for_embedding'].fillna(\"\").astype(str).tolist()\n",
    "print(\"Encoding\", len(texts), \"courses into embeddings...\")\n",
    "embeddings = model.encode(texts, batch_size=32, show_progress_bar=True)  # returns a numpy array"
   ]
  },
  {
   "cell_type": "code",
   "execution_count": null,
   "id": "ac5c3977",
   "metadata": {},
   "outputs": [
    {
     "name": "stdout",
     "output_type": "stream",
     "text": [
      "Saved embeddings to: ../data/processed\\course_embeddings.npy\n"
     ]
    }
   ],
   "source": [
    "# Save embeddings to disk\n",
    "emb_path = os.path.join(process_dir, \"course_embeddings.npy\")\n",
    "np.save(emb_path, embeddings)\n",
    "print(\"Saved embeddings to:\", emb_path)\n",
    "\n",
    "#  Save the model name/version to know later which model was used\n",
    "with open(os.path.join(process_dir, \"embedding_model.txt\"), \"w\") as f:\n",
    "    f.write(model_name)"
   ]
  },
  {
   "cell_type": "code",
   "execution_count": null,
   "id": "816d84b8",
   "metadata": {},
   "outputs": [],
   "source": []
  }
 ],
 "metadata": {
  "kernelspec": {
   "display_name": ".venv",
   "language": "python",
   "name": "python3"
  },
  "language_info": {
   "codemirror_mode": {
    "name": "ipython",
    "version": 3
   },
   "file_extension": ".py",
   "mimetype": "text/x-python",
   "name": "python",
   "nbconvert_exporter": "python",
   "pygments_lexer": "ipython3",
   "version": "3.10.0"
  }
 },
 "nbformat": 4,
 "nbformat_minor": 5
}
