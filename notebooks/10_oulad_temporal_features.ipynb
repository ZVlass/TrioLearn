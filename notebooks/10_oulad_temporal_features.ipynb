{
 "cells": [
  {
   "cell_type": "markdown",
   "id": "bd411427",
   "metadata": {},
   "source": [
    "**Adding length of each session to student profiles**\n"
   ]
  },
  {
   "cell_type": "code",
   "execution_count": 2,
   "id": "caf2f804",
   "metadata": {},
   "outputs": [],
   "source": [
    "import pandas as pd"
   ]
  },
  {
   "cell_type": "code",
   "execution_count": null,
   "id": "f895de70",
   "metadata": {},
   "outputs": [],
   "source": [
    "# Load existing enriched profiles\n",
    "csv_path=\"../data/processed\"\n",
    "profiles = pd.read_csv(f'{csv_path}/oulad_media_profiles_full.csv')"
   ]
  },
  {
   "cell_type": "code",
   "execution_count": 11,
   "id": "385b1edc",
   "metadata": {},
   "outputs": [],
   "source": [
    "# Recompute average session duration per user\n",
    "path=\"../data/raw/OULAD\"\n",
    "vle= pd.read_csv(f\"{path}/vle.csv\")\n",
    "student_vle = pd.read_csv(f\"{path}/studentVle.csv\")"
   ]
  },
  {
   "cell_type": "code",
   "execution_count": 12,
   "id": "bfe4ec35",
   "metadata": {},
   "outputs": [],
   "source": [
    "# Merge to get dates\n",
    "df = student_vle.merge(vle[['id_site']], on='id_site', how='left')\n",
    "df['date'] = pd.to_datetime(df['date'])"
   ]
  },
  {
   "cell_type": "code",
   "execution_count": 13,
   "id": "cd623724",
   "metadata": {},
   "outputs": [],
   "source": [
    "# Sum clicks per session (per user-date)\n",
    "session = (\n",
    "    df\n",
    "    .groupby(['id_student', 'date'])['sum_click']\n",
    "    .sum()\n",
    "    .reset_index(name='clicks_per_session')\n",
    ")\n"
   ]
  },
  {
   "cell_type": "code",
   "execution_count": 15,
   "id": "43f759dd",
   "metadata": {},
   "outputs": [],
   "source": [
    "# Approximate duration (minutes): assume 0.5 min per click\n",
    "session['duration_min'] = session['clicks_per_session'] * 0.5\n",
    "\n",
    "# Compute average session duration per user\n",
    "user_sessions = (\n",
    "    session\n",
    "    .groupby('id_student')['duration_min']\n",
    "    .mean()\n",
    "    .reset_index(name='avg_session_duration_min'))"
   ]
  },
  {
   "cell_type": "code",
   "execution_count": 16,
   "id": "d7690d5b",
   "metadata": {},
   "outputs": [],
   "source": [
    "# Merge session info into profiles\n",
    "merged = profiles.merge(\n",
    "    user_sessions,\n",
    "    on='id_student',\n",
    "    how='left'\n",
    ")"
   ]
  },
  {
   "cell_type": "code",
   "execution_count": 17,
   "id": "44fd7dfb",
   "metadata": {},
   "outputs": [],
   "source": [
    "# Save the augmented profiles\n",
    "out_path = \"../data/processed/oulad_media_profiles_full_with_sessions.csv\"\n",
    "merged.to_csv(out_path, index=False)\n"
   ]
  },
  {
   "cell_type": "code",
   "execution_count": 18,
   "id": "dcd43455",
   "metadata": {},
   "outputs": [
    {
     "name": "stdout",
     "output_type": "stream",
     "text": [
      "Augmented profiles sample:\n",
      "   id_student  course_count  other_count  reading_count  video_count  \\\n",
      "0        6516          2008          497            286            0   \n",
      "1        8462           172          203            268           13   \n",
      "2        8462           172          203            268           13   \n",
      "3       11391           759          138             37            0   \n",
      "4       23629           120           36              5            0   \n",
      "\n",
      "   course_prop  other_prop  reading_prop  video_prop gender  \\\n",
      "0     0.719455    0.178072      0.102472    0.000000      M   \n",
      "1     0.262195    0.309451      0.408537    0.019817      M   \n",
      "2     0.262195    0.309451      0.408537    0.019817      M   \n",
      "3     0.812634    0.147752      0.039615    0.000000      M   \n",
      "4     0.745342    0.223602      0.031056    0.000000      F   \n",
      "\n",
      "                region   highest_education imd_band age_band  \\\n",
      "0             Scotland    HE Qualification   80-90%     55<=   \n",
      "1        London Region    HE Qualification   30-40%     55<=   \n",
      "2        London Region    HE Qualification   30-40%     55<=   \n",
      "3  East Anglian Region    HE Qualification  90-100%     55<=   \n",
      "4  East Anglian Region  Lower Than A Level   20-30%     0-35   \n",
      "\n",
      "   avg_session_duration_min  \n",
      "0                  8.776730  \n",
      "1                  5.857143  \n",
      "2                  5.857143  \n",
      "3                 11.675000  \n",
      "4                  5.031250  \n"
     ]
    }
   ],
   "source": [
    "# Preview\n",
    "print(\"Augmented profiles sample:\")\n",
    "print(merged.head())"
   ]
  },
  {
   "cell_type": "code",
   "execution_count": null,
   "id": "ce2d8774",
   "metadata": {},
   "outputs": [],
   "source": []
  }
 ],
 "metadata": {
  "kernelspec": {
   "display_name": ".venv",
   "language": "python",
   "name": "python3"
  },
  "language_info": {
   "codemirror_mode": {
    "name": "ipython",
    "version": 3
   },
   "file_extension": ".py",
   "mimetype": "text/x-python",
   "name": "python",
   "nbconvert_exporter": "python",
   "pygments_lexer": "ipython3",
   "version": "3.10.0"
  }
 },
 "nbformat": 4,
 "nbformat_minor": 5
}
