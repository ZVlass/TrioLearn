{
 "cells": [
  {
   "cell_type": "markdown",
   "id": "6f6eb49c",
   "metadata": {},
   "source": [
    "Below is a Python script showing how to load the core OULAD tables, extract “content-based” features from the VLE interactions (i.e. resource types and click counts), plus a few auxiliary signals (active days, assignment performance), and assemble a per-student feature matrix suitable for content-based profiling in a recommender"
   ]
  },
  {
   "cell_type": "code",
   "execution_count": null,
   "id": "db159e9a",
   "metadata": {},
   "outputs": [],
   "source": [
    "import pandas as pd\n",
    "import numpy as np"
   ]
  },
  {
   "cell_type": "code",
   "execution_count": 2,
   "id": "8a200faa",
   "metadata": {},
   "outputs": [],
   "source": [
    "\n",
    "\n",
    "def load_oulad(path=\"../data/raw/OULAD\"):\n",
    "    \"\"\"Load the main OULAD CSVs into pandas DataFrames.\"\"\"\n",
    "    student_info       = pd.read_csv(f\"{path}/studentInfo.csv\")\n",
    "    vle                = pd.read_csv(f\"{path}/vle.csv\")\n",
    "    student_vle        = pd.read_csv(f\"{path}/studentVle.csv\")\n",
    "    student_assess     = pd.read_csv(f\"{path}/studentAssessment.csv\")\n",
    "    assessments        = pd.read_csv(f\"{path}/assessments.csv\")\n",
    "    return student_info, vle, student_vle, student_assess, assessments"
   ]
  },
  {
   "cell_type": "code",
   "execution_count": null,
   "id": "8fa19527",
   "metadata": {},
   "outputs": [],
   "source": [
    "def build_content_features(vle, student_vle):\n",
    "    \"\"\"\n",
    "    Join student_vle to vle to get activity_type, then pivot to get total clicks per resource type per student (content profile).\n",
    "    \"\"\"\n",
    "    # join in the resource type\n",
    "    sv = student_vle.merge(\n",
    "        vle[['id', 'activity_type']],\n",
    "        left_on='id_site', right_on='id',\n",
    "        how='left'\n",
    "    )\n",
    "    # sum clicks per student × activity_type\n",
    "    clicks_by_type = (sv\n",
    "        .groupby(['id_student', 'activity_type'])\n",
    "        ['sum_click']\n",
    "        .sum()\n",
    "        .unstack(fill_value=0)\n",
    "        .add_prefix(\"click_\")\n",
    "        .reset_index()\n",
    "    )\n",
    "    return clicks_by_type"
   ]
  }
 ],
 "metadata": {
  "kernelspec": {
   "display_name": ".venv",
   "language": "python",
   "name": "python3"
  },
  "language_info": {
   "codemirror_mode": {
    "name": "ipython",
    "version": 3
   },
   "file_extension": ".py",
   "mimetype": "text/x-python",
   "name": "python",
   "nbconvert_exporter": "python",
   "pygments_lexer": "ipython3",
   "version": "3.10.0"
  }
 },
 "nbformat": 4,
 "nbformat_minor": 5
}
