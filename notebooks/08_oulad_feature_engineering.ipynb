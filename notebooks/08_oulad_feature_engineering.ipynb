{
 "cells": [
  {
   "cell_type": "markdown",
   "id": "6f6eb49c",
   "metadata": {},
   "source": [
    "Below is a Python script showing how to load the core OULAD tables, extract “content-based” features from the VLE interactions (i.e. resource types and click counts), plus a few auxiliary signals (active days, assignment performance), and assemble a per-student feature matrix suitable for content-based profiling in a recommender"
   ]
  },
  {
   "cell_type": "code",
   "execution_count": 23,
   "id": "db159e9a",
   "metadata": {},
   "outputs": [],
   "source": [
    "import pandas as pd\n",
    "import numpy as np\n",
    "\n",
    "\n",
    "import os\n",
    "import sys"
   ]
  },
  {
   "cell_type": "code",
   "execution_count": 18,
   "id": "8a200faa",
   "metadata": {},
   "outputs": [],
   "source": [
    "\n",
    "def load_oulad(path=\"../data/raw/OULAD\"):\n",
    "    \n",
    "    \"\"\"Load the main OULAD CSVs into pandas DataFrames.\"\"\"\n",
    "    student_info       = pd.read_csv(f\"{path}/studentInfo.csv\")\n",
    "    vle                = pd.read_csv(f\"{path}/vle.csv\")\n",
    "    student_vle        = pd.read_csv(f\"{path}/studentVle.csv\")\n",
    "    student_assess     = pd.read_csv(f\"{path}/studentAssessment.csv\")\n",
    "    assessments        = pd.read_csv(f\"{path}/assessments.csv\")\n",
    "    return student_info, vle, student_vle, student_assess, assessments"
   ]
  },
  {
   "cell_type": "markdown",
   "id": "02c94677",
   "metadata": {},
   "source": [
    "**Clicks by type**\n",
    "\n",
    "\n",
    "Merge student_vle (which has, for each student and VLE interaction, the number of clicks in that session) with vle[['id','activity_type']] so that every row now knows its activity_type. Group and sum all sessions for each student – activity_type pair into a single sum. In addition renames columns like \"forum\" → \"click_forum\", and brings id_student back out of the index into its own column. \n",
    "\n",
    "returns: pandas DataFrame where e ach row corresponds to one student (id_student), each column (after id_student) is named click_<activity_type>, e.g. click_forum, click_resource, click_url, etc.\n",
    "Each cell in column click_X holds the total number of clicks that the student made on VLE resources of type X."
   ]
  },
  {
   "cell_type": "code",
   "execution_count": 24,
   "id": "8fa19527",
   "metadata": {},
   "outputs": [],
   "source": [
    "def build_content_features(vle, student_vle):\n",
    "    \"\"\"\n",
    "    Join student_vle to vle to get activity_type, then pivot to get total clicks per resource type per student (content profile).\n",
    "    \"\"\"\n",
    "    # join in the resource type\n",
    "    sv = student_vle.merge(\n",
    "        vle[['id_site', 'activity_type']],\n",
    "        on='id_site',\n",
    "        how='left'\n",
    "    )\n",
    "    # sum clicks per student × activity_type\n",
    "    clicks_by_type = (sv\n",
    "        .groupby(['id_student', 'activity_type'])['sum_click']\n",
    "        .sum()\n",
    "        .unstack(fill_value=0)\n",
    "        .add_prefix(\"click_\") \n",
    "        .reset_index()\n",
    "    )\n",
    "    return clicks_by_type"
   ]
  },
  {
   "cell_type": "markdown",
   "id": "656ab557",
   "metadata": {},
   "source": []
  },
  {
   "cell_type": "markdown",
   "id": "23f11726",
   "metadata": {},
   "source": [
    "**Engagement features**  function counts each student’s raw VLE‐click logs into a small set of interpretable engagement statistics. \n",
    "\n",
    "The function returns a pandas DataFrame with one row per student and these columns:\n",
    " - id_student\t(int)\tUnique student identifier\n",
    " - n_active_days (int)\tCount of distinct days the student accessed any VLE content\n",
    " - n_sessions (int)\tTotal number of VLE interaction records (i.e. sessions)\n",
    " - total_clicks (int)\tSum of all clicks the student made across the VLE\n",
    " - mean_clicks_per_session\t(float)\tAverage clicks per session\n",
    "\n",
    "How we use these features: \n",
    "Normalize click counts. A student with more sessions naturally accumulates more clicks;  use mean_clicks_per_session to compare across students fairly.\n",
    "\n",
    "Time-based analysis. n_active_days highlights how consistent a student’s engagement is.\n",
    "\n",
    "Early warning signals. Very low values (e.g. 1–2 active days) could trigger a “re-engagement” notification.\n",
    "\n",
    "Feature fusion. Concatenate these with content-based click vectors to give the recommender a sense of how they click, how often, and how densely."
   ]
  },
  {
   "cell_type": "code",
   "execution_count": 20,
   "id": "c55cd5fe",
   "metadata": {},
   "outputs": [],
   "source": [
    "def build_engagement_features(student_vle):\n",
    "    \"\"\"\n",
    "    Simple engagement features: number of distinct active days,  total sessions, mean clicks per session.\n",
    "    \"\"\"\n",
    "    # count of distinct days active\n",
    "    days_active = (student_vle\n",
    "        .groupby('id_student')['date']\n",
    "        .nunique()\n",
    "        .rename(\"n_active_days\")\n",
    "        .reset_index()\n",
    "    )\n",
    "    # total number of VLE records (sessions)\n",
    "    sessions = (student_vle\n",
    "        .groupby('id_student')\n",
    "        .size()\n",
    "        .rename(\"n_sessions\")\n",
    "        .reset_index()\n",
    "    )\n",
    "    # total clicks per student\n",
    "    total_clicks = (student_vle\n",
    "        .groupby('id_student')['sum_click']\n",
    "        .sum()\n",
    "        .rename(\"total_clicks\")\n",
    "        .reset_index()\n",
    "    )\n",
    "    # mean clicks per session\n",
    "    df = days_active.merge(sessions, on='id_student')\n",
    "    df = df.merge(total_clicks, on='id_student')\n",
    "    df['mean_clicks_per_session'] = df['total_clicks'] / df['n_sessions']\n",
    "    return df"
   ]
  },
  {
   "cell_type": "markdown",
   "id": "987492de",
   "metadata": {},
   "source": [
    "**Assignment relayted features:**\n",
    "\n",
    "We don’t have to include the assignment‐related features in our content-based user model — if all we care about is how a student interacts with different types of learning objects (videos, quizzes, forums, etc.), then the click-based profile alone is sufficient.\n",
    "However, assignment features can add a different—and often valuable—signal about the learner’s mastery and engagement:\n",
    "\n",
    " - Average score ratio (avg_score_ratio) tells you how well they’re actually performing on graded work, not just clicking around.\n",
    "\n",
    " - % on-time submissions (pct_on_time) is a proxy for their self-regulation and commitment.\n",
    "\n",
    " - Number of submissions (n_submissions) can indicate how many assessments they attempted—another engagement metric.\n",
    "\n",
    "\n",
    "Pure content-based filtering: if we only want to match students to resources by their click profiles (e.g. cosine‐similarity on click_forum, click_video, …), then we can omit build_assignment_features.\n",
    "\n",
    "Cold-start or limited data: if many students haven’t done any graded work yet, those features will be mostly zeros and add noise.\n",
    "\n",
    "When we should include it: using hybrid recomender we can combine “what they click” (interest) with “how well they score” (ability). For instance, only recommend advanced material to students whose avg_score_ratio > 0.8.\n",
    "Difficulty adaptation: use avg_score_ratio to infer their proficiency in a topic and personalize the difficulty of recommended items.\n",
    "Engagement alerts: low pct_on_time might trigger nudges (“Hey, you’re falling behind!”) or surface easier “catch-up” resources.\n",
    "\n"
   ]
  },
  {
   "cell_type": "code",
   "execution_count": 21,
   "id": "885fce78",
   "metadata": {},
   "outputs": [],
   "source": [
    "def build_assignment_features(student_assess, assessments):\n",
    "    \"\"\"\n",
    "    Merge studentAssessment with assessments to get weights and deadlines, then compute per-student average score ratio and on-time rate.\n",
    "    \"\"\"\n",
    "    sa = student_assess.merge(\n",
    "        assessments[['id_assessment', 'weight', 'date', 'assessment_type']],\n",
    "        on='id_assessment',\n",
    "        how='left'\n",
    "    )\n",
    "    # ratio of score to weight\n",
    "    sa['score_ratio'] = sa['score'] / sa['weight']\n",
    "    # on-time submission: date_submitted <= deadline\n",
    "    sa['on_time'] = (sa['date_submitted'] <= sa['date']).astype(int)\n",
    "    # aggregate per student\n",
    "    agg = sa.groupby('id_student').agg({\n",
    "        'score_ratio': 'mean',\n",
    "        'on_time': 'mean',\n",
    "        'id_assessment': 'count'\n",
    "    }).rename(columns={\n",
    "        'score_ratio': 'avg_score_ratio',\n",
    "        'on_time': 'pct_on_time',\n",
    "        'id_assessment': 'n_submissions'\n",
    "    }).reset_index()\n",
    "    return agg"
   ]
  },
  {
   "cell_type": "markdown",
   "id": "c335caf2",
   "metadata": {},
   "source": [
    "The assemble_features function is the method for turning all of the raw OULAD tables into a single, per-student feature matrix that we can feed straight into any recommender or modeling pipeline. \n",
    "\n",
    "1. Load all the raw tables (student_info, vle, student_vle, student_assess, assessments = load_oulad(path)); \n",
    "\n",
    "student_info — demographic and enrollment data, one row per student\n",
    "\n",
    "vle — metadata about each Virtual Learning Environment (VLE) resource (type, module, etc.)\n",
    "\n",
    "student_vle — every click/session record: student × resource × date × click count\n",
    "\n",
    "student_assess — every assessment submission: student × assessment × score × submission date\n",
    "\n",
    "assessments — metadata about each assessment (weight, deadline, type)\n",
    "\n",
    "2. Build three “feature blocks”: \n",
    "\n",
    "content_feats    = build_content_features(vle, student_vle)\n",
    "\n",
    "engage_feats     = build_engagement_features(student_vle)\n",
    "\n",
    "assignment_feats = build_assignment_features(student_assess, assessments)\n",
    "\n",
    "\n",
    "3. Merge into one DataFrame\n",
    "\n",
    "df = student_info[['id_student']].drop_duplicates()\n",
    "\n",
    "df = df.merge(content_feats,    on='id_student', how='left')\n",
    "\n",
    "df = df.merge(engage_feats,     on='id_student', how='left')\n",
    "\n",
    "df = df.merge(assignment_feats, on='id_student', how='left')\n",
    "\n",
    "Starts with a master list of every id_student, then left-merges each feature block so that students with no clicks or no submissions still appear\n",
    "\n",
    "4. Clean up missing values\n",
    "\n",
    "df.fillna(0, inplace=True) - Any student who never clicked a given activity type or never submitted an assessment now has a 0 in those columns\n",
    "\n",
    "5. Return value\n",
    "The function returns a pandas DataFrame df with one row per student (id_student) and columns:\n",
    "\n",
    "- Content features: click_forum, click_resource, click_quiz, … (one per activity_type)\n",
    "- Engagement features: n_active_days; n_sessions; total_clicks; mean_clicks_per_session\n",
    "- Assignment features: avg_score_ratio; pct_on_time; n_submissions"
   ]
  },
  {
   "cell_type": "code",
   "execution_count": 25,
   "id": "d394e728",
   "metadata": {},
   "outputs": [],
   "source": [
    "\n",
    "def assemble_features(path):\n",
    "    # load raw tables\n",
    "    student_info, vle, student_vle, student_assess, assessments = load_oulad(path)\n",
    "\n",
    "    # engineer feature blocks\n",
    "    content_feats    = build_content_features(vle, student_vle)\n",
    "    engage_feats     = build_engagement_features(student_vle)\n",
    "    assignment_feats = build_assignment_features(student_assess, assessments)\n",
    "\n",
    "    # join them all\n",
    "    df = student_info[['id_student']].drop_duplicates()\n",
    "    df = df.merge(content_feats,    on='id_student', how='left')\n",
    "    df = df.merge(engage_feats,     on='id_student', how='left')\n",
    "    df = df.merge(assignment_feats, on='id_student', how='left')\n",
    "\n",
    "    # fill missing (students with no interactions or submissions)\n",
    "    df.fillna(0, inplace=True)\n",
    "\n",
    "    return df"
   ]
  },
  {
   "cell_type": "code",
   "execution_count": 26,
   "id": "72539a51",
   "metadata": {},
   "outputs": [
    {
     "name": "stdout",
     "output_type": "stream",
     "text": [
      "(28785, 28)\n",
      "['id_student', 'click_dataplus', 'click_dualpane', 'click_externalquiz', 'click_folder', 'click_forumng', 'click_glossary', 'click_homepage', 'click_htmlactivity', 'click_oucollaborate', 'click_oucontent', 'click_ouelluminate', 'click_ouwiki', 'click_page', 'click_questionnaire', 'click_quiz', 'click_repeatactivity', 'click_resource', 'click_sharedsubpage', 'click_subpage', 'click_url', 'n_active_days', 'n_sessions', 'total_clicks', 'mean_clicks_per_session', 'avg_score_ratio', 'pct_on_time', 'n_submissions']\n"
     ]
    }
   ],
   "source": [
    "features = assemble_features(path=\"../data/raw/OULAD/\")\n",
    "print(features.shape)          # e.g. (32_593 students, ~20–30 columns)\n",
    "print(features.columns.tolist())"
   ]
  },
  {
   "cell_type": "code",
   "execution_count": 28,
   "id": "d3e11d9c",
   "metadata": {},
   "outputs": [
    {
     "name": "stdout",
     "output_type": "stream",
     "text": [
      "Saved 28785 rows × 28 cols to ./data/processed/oulad_user_features.csv\n"
     ]
    }
   ],
   "source": [
    "\n",
    "os.makedirs(\"data/processed\", exist_ok=True)\n",
    "\n",
    "#  Write out to CSV\n",
    "out_path = \"./data/processed/oulad_user_features.csv\"\n",
    "features.to_csv(out_path, index=False)\n",
    "print(f\"Saved {features.shape[0]} rows × {features.shape[1]} cols to {out_path}\")\n"
   ]
  },
  {
   "cell_type": "markdown",
   "id": "aa99349c",
   "metadata": {},
   "source": [
    "\n"
   ]
  }
 ],
 "metadata": {
  "kernelspec": {
   "display_name": ".venv",
   "language": "python",
   "name": "python3"
  },
  "language_info": {
   "codemirror_mode": {
    "name": "ipython",
    "version": 3
   },
   "file_extension": ".py",
   "mimetype": "text/x-python",
   "name": "python",
   "nbconvert_exporter": "python",
   "pygments_lexer": "ipython3",
   "version": "3.10.0"
  }
 },
 "nbformat": 4,
 "nbformat_minor": 5
}
