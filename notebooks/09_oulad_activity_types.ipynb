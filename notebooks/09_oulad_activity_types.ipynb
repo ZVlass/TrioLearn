{
 "cells": [
  {
   "cell_type": "markdown",
   "id": "b1255fef",
   "metadata": {},
   "source": [
    "**OULAD activity types**\n",
    "\n",
    "\n",
    "Here I collapse collapse OULAD’s 19  VLE activity types into  three high-level media buckets. In vle.csv, each id_site maps to an activity_type—these are typically HTML pages, PDFs, external links, quizzes or collaborative tools. Here’s a sensible mapping:\n",
    "\n",
    "High-level bucket\tOULAD activity types\tNotes\n",
    "Courses will come from \tresource, oucontent, page, subpage, htmlactivity, folder, dualpane, glossary.\tThese are internal learning pages—text, multimedia embeds, structured content that you’d treat as “course” interactions.\n",
    "\n",
    "Reading:\turl (when the target URL ends in .pdf or points to an online book), ouwiki.\tAny external link to a PDF or book-style content, plus wiki/glossary pages, can be bucketed as “reading.” You’ll need to fetch/inspect the actual URL string.\n",
    "\n",
    "Videos:\turl (when the target domain is a video host like youtube.com/vimeo.com), ouelluminate, oucollaborate.\tLive-session tools (ouelluminate, oucollaborate) and any external links whose domains resolve to known video platforms get labeled “video.”"
   ]
  },
  {
   "cell_type": "markdown",
   "id": "762ada76",
   "metadata": {},
   "source": [
    "To implement this algorythm i will join studentVle.csv with vle.csv on id_site to pull in activity_type.\n",
    "For every url-type row, retrieve its actual URL from  scraped VLE metadata or logs. If it ends in .pdf or matches an online book domain we will count as reading. If the domain is YouTube, Vimeo, etc. will count as video.\n",
    "\n",
    "Else we can either drop it or assign to a “misc” bucket.\n",
    "\n",
    "Aggregate per user to get  material_counts and material_prefs fields, now aligned to exactly three modalities: course, reading, video.\n",
    "\n",
    "This lets us seed the tri-modal profiles from OULAD even though it doesn’t natively record “books” or “YouTube” events—by pattern-matching external links and grouping internal content pages."
   ]
  },
  {
   "cell_type": "code",
   "execution_count": 1,
   "id": "7f5ff7d7",
   "metadata": {},
   "outputs": [],
   "source": [
    "import pandas as pd"
   ]
  },
  {
   "cell_type": "code",
   "execution_count": 3,
   "id": "49689f45",
   "metadata": {},
   "outputs": [],
   "source": [
    "# 1. Load OULAD data\n",
    "\n",
    "path=\"../data/raw/OULAD\"\n",
    "vle_df= pd.read_csv(f\"{path}/vle.csv\")\n",
    "student_vle_df = pd.read_csv(f\"{path}/studentVle.csv\")\n"
   ]
  },
  {
   "cell_type": "code",
   "execution_count": 4,
   "id": "f409c1b4",
   "metadata": {},
   "outputs": [],
   "source": [
    "# 2. Merge click logs with activity metadata\n",
    "df = student_vle_df.merge(vle_df[['id_site', 'activity_type']], on='id_site', how='left')"
   ]
  },
  {
   "cell_type": "code",
   "execution_count": 5,
   "id": "de26c88a",
   "metadata": {},
   "outputs": [],
   "source": [
    "# 3. Define a mapping from detailed activity_type → media bucket\n",
    "def map_media_bucket(activity_type):\n",
    "    course_types = {\n",
    "        'resource', 'oucontent', 'page', 'subpage', \n",
    "        'htmlactivity', 'folder', 'dualpane', 'glossary'\n",
    "    }\n",
    "    reading_types = {\n",
    "        'ouwiki', 'url'\n",
    "    }\n",
    "    video_types = {\n",
    "        'ouelluminate', 'oucollaborate'\n",
    "    }\n",
    "    \n",
    "    if activity_type in course_types:\n",
    "        return 'course'\n",
    "    elif activity_type in reading_types:\n",
    "        return 'reading'\n",
    "    elif activity_type in video_types:\n",
    "        return 'video'\n",
    "    else:\n",
    "        return 'other'\n",
    "\n",
    "df['media_type'] = df['activity_type'].apply(map_media_bucket)"
   ]
  },
  {
   "cell_type": "code",
   "execution_count": 6,
   "id": "af2e0300",
   "metadata": {},
   "outputs": [],
   "source": [
    "# 4. Aggregate to get raw counts per user per media_type\n",
    "counts = (\n",
    "    df\n",
    "    .groupby(['id_student', 'media_type'])['sum_click']\n",
    "    .sum()\n",
    "    .unstack(fill_value=0)\n",
    "    .reset_index()\n",
    ")"
   ]
  },
  {
   "cell_type": "code",
   "execution_count": 7,
   "id": "fe98fd75",
   "metadata": {},
   "outputs": [],
   "source": [
    "# 5. Compute normalized preferences (fractions)\n",
    "prefs = counts.set_index('id_student')\n",
    "prefs = prefs.div(prefs.sum(axis=1), axis=0).reset_index()"
   ]
  },
  {
   "cell_type": "code",
   "execution_count": 8,
   "id": "4dd93885",
   "metadata": {},
   "outputs": [],
   "source": [
    "# 6. Merge counts & prefs into one profile table\n",
    "user_profiles_df = counts.merge(\n",
    "    prefs, on='id_student', suffixes=('_count', '_prop')\n",
    ")"
   ]
  },
  {
   "cell_type": "code",
   "execution_count": 9,
   "id": "fcf6bf8f",
   "metadata": {},
   "outputs": [
    {
     "name": "stdout",
     "output_type": "stream",
     "text": [
      "Saved 26074 rows  to ../data/processed/oulad_media_profiles.csv\n"
     ]
    }
   ],
   "source": [
    "# 7. Save as CSV for later ingestion into Django\n",
    "\n",
    "out_path = \"../data/processed/oulad_media_profiles.csv\"\n",
    "user_profiles_df.to_csv(out_path, index=False)\n",
    "print(f\"Saved {prefs.shape[0]} rows  to {out_path}\")\n",
    "\n"
   ]
  },
  {
   "cell_type": "code",
   "execution_count": 11,
   "id": "57e5d278",
   "metadata": {},
   "outputs": [
    {
     "data": {
      "text/html": [
       "<div>\n",
       "<style scoped>\n",
       "    .dataframe tbody tr th:only-of-type {\n",
       "        vertical-align: middle;\n",
       "    }\n",
       "\n",
       "    .dataframe tbody tr th {\n",
       "        vertical-align: top;\n",
       "    }\n",
       "\n",
       "    .dataframe thead th {\n",
       "        text-align: right;\n",
       "    }\n",
       "</style>\n",
       "<table border=\"1\" class=\"dataframe\">\n",
       "  <thead>\n",
       "    <tr style=\"text-align: right;\">\n",
       "      <th>media_type</th>\n",
       "      <th>id_student</th>\n",
       "      <th>course_count</th>\n",
       "      <th>other_count</th>\n",
       "      <th>reading_count</th>\n",
       "      <th>video_count</th>\n",
       "      <th>course_prop</th>\n",
       "      <th>other_prop</th>\n",
       "      <th>reading_prop</th>\n",
       "      <th>video_prop</th>\n",
       "    </tr>\n",
       "  </thead>\n",
       "  <tbody>\n",
       "    <tr>\n",
       "      <th>0</th>\n",
       "      <td>6516</td>\n",
       "      <td>1679</td>\n",
       "      <td>969</td>\n",
       "      <td>143</td>\n",
       "      <td>0</td>\n",
       "      <td>0.601576</td>\n",
       "      <td>0.347187</td>\n",
       "      <td>0.051236</td>\n",
       "      <td>0.000000</td>\n",
       "    </tr>\n",
       "    <tr>\n",
       "      <th>1</th>\n",
       "      <td>8462</td>\n",
       "      <td>361</td>\n",
       "      <td>241</td>\n",
       "      <td>41</td>\n",
       "      <td>13</td>\n",
       "      <td>0.550305</td>\n",
       "      <td>0.367378</td>\n",
       "      <td>0.062500</td>\n",
       "      <td>0.019817</td>\n",
       "    </tr>\n",
       "    <tr>\n",
       "      <th>2</th>\n",
       "      <td>11391</td>\n",
       "      <td>598</td>\n",
       "      <td>331</td>\n",
       "      <td>5</td>\n",
       "      <td>0</td>\n",
       "      <td>0.640257</td>\n",
       "      <td>0.354390</td>\n",
       "      <td>0.005353</td>\n",
       "      <td>0.000000</td>\n",
       "    </tr>\n",
       "    <tr>\n",
       "      <th>3</th>\n",
       "      <td>23629</td>\n",
       "      <td>7</td>\n",
       "      <td>154</td>\n",
       "      <td>0</td>\n",
       "      <td>0</td>\n",
       "      <td>0.043478</td>\n",
       "      <td>0.956522</td>\n",
       "      <td>0.000000</td>\n",
       "      <td>0.000000</td>\n",
       "    </tr>\n",
       "    <tr>\n",
       "      <th>4</th>\n",
       "      <td>23698</td>\n",
       "      <td>145</td>\n",
       "      <td>760</td>\n",
       "      <td>5</td>\n",
       "      <td>0</td>\n",
       "      <td>0.159341</td>\n",
       "      <td>0.835165</td>\n",
       "      <td>0.005495</td>\n",
       "      <td>0.000000</td>\n",
       "    </tr>\n",
       "  </tbody>\n",
       "</table>\n",
       "</div>"
      ],
      "text/plain": [
       "media_type  id_student  course_count  other_count  reading_count  video_count  \\\n",
       "0                 6516          1679          969            143            0   \n",
       "1                 8462           361          241             41           13   \n",
       "2                11391           598          331              5            0   \n",
       "3                23629             7          154              0            0   \n",
       "4                23698           145          760              5            0   \n",
       "\n",
       "media_type  course_prop  other_prop  reading_prop  video_prop  \n",
       "0              0.601576    0.347187      0.051236    0.000000  \n",
       "1              0.550305    0.367378      0.062500    0.019817  \n",
       "2              0.640257    0.354390      0.005353    0.000000  \n",
       "3              0.043478    0.956522      0.000000    0.000000  \n",
       "4              0.159341    0.835165      0.005495    0.000000  "
      ]
     },
     "execution_count": 11,
     "metadata": {},
     "output_type": "execute_result"
    }
   ],
   "source": [
    "# Display the first few rows\n",
    "\n",
    "user_profiles_df.head()\n"
   ]
  },
  {
   "cell_type": "markdown",
   "id": "a5da0e72",
   "metadata": {},
   "source": [
    "This table is  “media‐type profile” for each learner, where for every id_student we have aggregated:\n",
    "\n",
    "Raw counts:\n",
    "course_count, reading_count, video_count, other_count\n",
    "These are the total clicks (or interactions) the student made on each high-level bucket.\n",
    "\n",
    "Normalized preferences:\n",
    "course_prop, reading_prop, video_prop, other_prop\n",
    "These are the fractions of the total clicks that each bucket represents (so each row sums to 1).\n",
    "\n",
    " We’ll load these counts and proportions into the Django UserProfile’s material_counts and material_prefs JSON fields, so every profile records both absolute and relative format preferences.\n",
    "\n",
    "Cold-start & personalization\n",
    "­– For a new user, we can seed their profile with demographic-based averages of these proportions.\n",
    "­– As they interact, we update their counts/props in real time to reflect shifting tastes.\n",
    "\n",
    "Recommender signals\n",
    "­– In your ML model (e.g. logistic regression or bandit), these props become input features that help predict or rank which format—course, reading, or video—a learner is most likely to engage with next.\n",
    "­– You can also use the raw counts to gauge “confidence” (heavy-click users vs. light-click users) or to weight their topic/embedding centroids when blending signals.\n",
    "\n",
    "Together with their topic and embedding vectors, these media-type features let your system tailor not just what content to recommend, but in which format—ensuring that each learner sees more of the kinds of materials they actually prefer.\n"
   ]
  }
 ],
 "metadata": {
  "kernelspec": {
   "display_name": ".venv",
   "language": "python",
   "name": "python3"
  },
  "language_info": {
   "codemirror_mode": {
    "name": "ipython",
    "version": 3
   },
   "file_extension": ".py",
   "mimetype": "text/x-python",
   "name": "python",
   "nbconvert_exporter": "python",
   "pygments_lexer": "ipython3",
   "version": "3.10.0"
  }
 },
 "nbformat": 4,
 "nbformat_minor": 5
}
