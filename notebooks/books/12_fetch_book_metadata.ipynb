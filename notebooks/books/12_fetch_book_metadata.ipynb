{
 "cells": [
  {
   "cell_type": "markdown",
   "id": "b01e58eb",
   "metadata": {},
   "source": [
    "Python Script to Fetch Book Metadata,  it akes a list of keywords (e.g., course topics), Queries the Google Books API, Extracts structured metadata,\n",
    "Stores the results in a Pandas DataFrame."
   ]
  },
  {
   "cell_type": "code",
   "execution_count": 5,
   "id": "d9f837da",
   "metadata": {},
   "outputs": [],
   "source": [
    "import requests\n",
    "import pandas as pd\n",
    "import time\n",
    "import os"
   ]
  },
  {
   "cell_type": "code",
   "execution_count": 12,
   "id": "3716a9bb",
   "metadata": {},
   "outputs": [],
   "source": [
    "os.chdir(\"..\")  # Go up to project root"
   ]
  },
  {
   "cell_type": "code",
   "execution_count": 2,
   "id": "b7508521",
   "metadata": {},
   "outputs": [],
   "source": [
    "def fetch_books_metadata(keywords, max_results_per_keyword=5, delay=1):\n",
    "    base_url = \"https://www.googleapis.com/books/v1/volumes\"\n",
    "    all_books = []\n",
    "\n",
    "    for keyword in keywords:\n",
    "        params = {\n",
    "            \"q\": keyword,\n",
    "            \"maxResults\": max_results_per_keyword\n",
    "        }\n",
    "        try:\n",
    "            response = requests.get(base_url, params=params)\n",
    "            response.raise_for_status()\n",
    "            data = response.json()\n",
    "\n",
    "            for item in data.get(\"items\", []):\n",
    "                info = item.get(\"volumeInfo\", {})\n",
    "                all_books.append({\n",
    "                    \"keyword\": keyword,\n",
    "                    \"title\": info.get(\"title\"),\n",
    "                    \"authors\": \", \".join(info.get(\"authors\", [])),\n",
    "                    \"description\": info.get(\"description\"),\n",
    "                    \"categories\": \", \".join(info.get(\"categories\", [])),\n",
    "                    \"publishedDate\": info.get(\"publishedDate\"),\n",
    "                    \"pageCount\": info.get(\"pageCount\"),\n",
    "                    \"language\": info.get(\"language\"),\n",
    "                    \"averageRating\": info.get(\"averageRating\"),\n",
    "                    \"ratingsCount\": info.get(\"ratingsCount\"),\n",
    "                    \"previewLink\": info.get(\"previewLink\"),\n",
    "                    \"infoLink\": info.get(\"infoLink\")\n",
    "                })\n",
    "\n",
    "        except Exception as e:\n",
    "            print(f\"Error fetching books for keyword '{keyword}':\", e)\n",
    "\n",
    "        time.sleep(delay)  # Avoid getting rate-limited\n",
    "\n",
    "    return pd.DataFrame(all_books)"
   ]
  },
  {
   "cell_type": "code",
   "execution_count": 7,
   "id": "e6769cbf",
   "metadata": {},
   "outputs": [],
   "source": [
    "keywords = [\"machine learning\", \"data science\", \"natural language processing\", \"python programming\"]\n",
    "df_books = fetch_books_metadata(keywords)"
   ]
  },
  {
   "cell_type": "code",
   "execution_count": 13,
   "id": "d056b984",
   "metadata": {},
   "outputs": [],
   "source": [
    "df_books.to_csv(\"../data/interim/books_metadata.csv\")"
   ]
  },
  {
   "cell_type": "code",
   "execution_count": null,
   "id": "66efd86c",
   "metadata": {},
   "outputs": [],
   "source": []
  },
  {
   "cell_type": "code",
   "execution_count": null,
   "id": "b63e1705",
   "metadata": {},
   "outputs": [],
   "source": []
  }
 ],
 "metadata": {
  "kernelspec": {
   "display_name": ".venv",
   "language": "python",
   "name": "python3"
  },
  "language_info": {
   "codemirror_mode": {
    "name": "ipython",
    "version": 3
   },
   "file_extension": ".py",
   "mimetype": "text/x-python",
   "name": "python",
   "nbconvert_exporter": "python",
   "pygments_lexer": "ipython3",
   "version": "3.10.0"
  }
 },
 "nbformat": 4,
 "nbformat_minor": 5
}
